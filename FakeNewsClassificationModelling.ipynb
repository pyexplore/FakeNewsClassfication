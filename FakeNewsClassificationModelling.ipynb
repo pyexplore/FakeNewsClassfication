{
 "cells": [
  {
   "cell_type": "markdown",
   "id": "d9f42187",
   "metadata": {},
   "source": [
    "# *Introduction*"
   ]
  },
  {
   "cell_type": "markdown",
   "id": "1c3987fb",
   "metadata": {},
   "source": [
    "### Problem Definition: Fake News Classification\n",
    "\n",
    "The goal of the machine learning problem is to train a model that can accurately classify news texts as either \"Real\" or \"Fake\" news. Given a news article's text, the model should be able to make a prediction about its authenticity.\n",
    "\n",
    "**Input** : The input to the model is the text of a news article.\n",
    "\n",
    "**Output** : The model will output a binary classification label indicating whether the news article is classified as \"Real\" or \"Fake\".\n",
    "\n",
    "**Task** : The task is to build a machine learning model that learns patterns and features from the text data to make accurate predictions about the authenticity of news articles. This involves training the model on a labeled dataset of news articles with their corresponding labels (Real or Fake), and then evaluating the model's performance on unseen test data.\n",
    "\n",
    "**Approach** : Various machine learning models can be applied to this problem, including logistic regression, naive Bayes, support vector machines (SVM), random forest, gradient boosting, and deep learning models such as recurrent neural networks (RNNs). The choice of model depends on factors such as the dataset size, complexity, available computational resources, and the desired trade-off between model interpretability and predictive performance.\n",
    "\n",
    "**Evaluation** : The performance of the models can be evaluated using standard evaluation metrics such as accuracy, precision, recall, F1 score, and area under the ROC curve (AUC-ROC). The goal is to build a model that achieves high accuracy and generalizes well to new, unseen news articles.\n",
    "\n",
    "The process involves steps such as data preprocessing (cleaning, tokenization, removing stop words, etc.), feature engineering (TF-IDF, word embedding), model selection and training, hyperparameter tuning, and evaluation on a separate test set.\n",
    "\n",
    "The end goal is to develop a robust and accurate model that can effectively differentiate between real and fake news articles, helping users make informed judgments about the credibility of the information they encounter."
   ]
  },
  {
   "cell_type": "code",
   "execution_count": 184,
   "id": "27bcb462",
   "metadata": {},
   "outputs": [
    {
     "name": "stderr",
     "output_type": "stream",
     "text": [
      "[nltk_data] Downloading package stopwords to\n",
      "[nltk_data]     C:\\Users\\email\\AppData\\Roaming\\nltk_data...\n",
      "[nltk_data]   Package stopwords is already up-to-date!\n"
     ]
    }
   ],
   "source": [
    "# Importing the required packages\n",
    "\n",
    "import pandas as pd\n",
    "import numpy as np\n",
    "import matplotlib.pyplot as plt\n",
    "import seaborn as sns\n",
    "\n",
    "from sklearn.model_selection import train_test_split, GridSearchCV\n",
    "from sklearn.feature_extraction.text import CountVectorizer, TfidfVectorizer\n",
    "from sklearn.preprocessing import StandardScaler\n",
    "from sklearn.linear_model import LogisticRegression\n",
    "from sklearn.naive_bayes import MultinomialNB, BernoulliNB\n",
    "from sklearn.ensemble import RandomForestClassifier\n",
    "from sklearn.svm import SVC\n",
    "from sklearn.metrics import accuracy_score, precision_score, recall_score, f1_score, roc_auc_score, confusion_matrix\n",
    "from sklearn.pipeline import Pipeline\n",
    "from sklearn.metrics import roc_curve, auc\n",
    "from sklearn.decomposition import PCA\n",
    "import pickle\n",
    "\n",
    "import nltk\n",
    "from nltk.corpus import stopwords\n",
    "from nltk.tokenize import word_tokenize\n",
    "from nltk.stem import WordNetLemmatizer\n",
    "# download stopwords\n",
    "nltk.download(\"stopwords\")\n",
    "\n",
    "import gensim\n",
    "from gensim import corpora\n",
    "from gensim.models import LdaModel\n",
    "\n",
    "import warnings\n",
    "warnings.filterwarnings(\"ignore\")\n",
    "\n",
    "%matplotlib inline\n"
   ]
  },
  {
   "cell_type": "code",
   "execution_count": 24,
   "id": "264fbf37",
   "metadata": {},
   "outputs": [
    {
     "name": "stdout",
     "output_type": "stream",
     "text": [
      "Train Data Shape: (16606, 6)\n",
      "Validation Data Shape: (2076, 6)\n",
      "Test Data Shape: (2076, 6)\n"
     ]
    }
   ],
   "source": [
    "# Read the CSV file\n",
    "data_path = 'data/news/train_processed.csv'\n",
    "news_df = pd.read_csv(data_path, encoding='UTF-8')\n",
    "\n",
    "# Split the data into train, validation, and test sets\n",
    "train_df, temp_df = train_test_split(news_df, test_size=0.2, random_state=42)\n",
    "val_df, test_df = train_test_split(temp_df, test_size=0.5, random_state=42)\n",
    "\n",
    "# Print the shape of the dataframes\n",
    "print(\"Train Data Shape:\", train_df.shape)\n",
    "print(\"Validation Data Shape:\", val_df.shape)\n",
    "print(\"Test Data Shape:\", test_df.shape)"
   ]
  },
  {
   "cell_type": "code",
   "execution_count": 15,
   "id": "a2cd43d2",
   "metadata": {},
   "outputs": [
    {
     "data": {
      "text/html": [
       "<div>\n",
       "<style scoped>\n",
       "    .dataframe tbody tr th:only-of-type {\n",
       "        vertical-align: middle;\n",
       "    }\n",
       "\n",
       "    .dataframe tbody tr th {\n",
       "        vertical-align: top;\n",
       "    }\n",
       "\n",
       "    .dataframe thead th {\n",
       "        text-align: right;\n",
       "    }\n",
       "</style>\n",
       "<table border=\"1\" class=\"dataframe\">\n",
       "  <thead>\n",
       "    <tr style=\"text-align: right;\">\n",
       "      <th></th>\n",
       "      <th>title</th>\n",
       "      <th>text</th>\n",
       "      <th>label</th>\n",
       "      <th>news</th>\n",
       "      <th>clean</th>\n",
       "      <th>clean_joined</th>\n",
       "    </tr>\n",
       "  </thead>\n",
       "  <tbody>\n",
       "    <tr>\n",
       "      <th>8238</th>\n",
       "      <td>California Prepares for Long-Denied Star Turn ...</td>\n",
       "      <td>BURLINGAME, Calif.  —   This is the most popul...</td>\n",
       "      <td>0</td>\n",
       "      <td>California Prepares for Long-Denied Star Turn ...</td>\n",
       "      <td>['california', 'prepares', 'long', 'denied', '...</td>\n",
       "      <td>california prepares long denied star turn pres...</td>\n",
       "    </tr>\n",
       "    <tr>\n",
       "      <th>11526</th>\n",
       "      <td>Larry Colburn, Who Helped Stop My Lai Massacre...</td>\n",
       "      <td>Larry Colburn, who became an    American hero ...</td>\n",
       "      <td>0</td>\n",
       "      <td>Larry Colburn, Who Helped Stop My Lai Massacre...</td>\n",
       "      <td>['larry', 'colburn', 'helped', 'stop', 'massac...</td>\n",
       "      <td>larry colburn helped stop massacre dies york t...</td>\n",
       "    </tr>\n",
       "    <tr>\n",
       "      <th>9982</th>\n",
       "      <td>A Tear in the Fabric of America’s Political Th...</td>\n",
       "      <td>[Graphic: Clinton vs Trump by DonkeyHotey .] P...</td>\n",
       "      <td>1</td>\n",
       "      <td>A Tear in the Fabric of America’s Political Th...</td>\n",
       "      <td>['tear', 'fabric', 'america', 'political', 'th...</td>\n",
       "      <td>tear fabric america political theater graphic ...</td>\n",
       "    </tr>\n",
       "    <tr>\n",
       "      <th>11282</th>\n",
       "      <td>Chart Of The Day: The Bond Vigilantes Are Back...</td>\n",
       "      <td>Chart Of The Day: The Bond Vigilantes Are Back...</td>\n",
       "      <td>1</td>\n",
       "      <td>Chart Of The Day: The Bond Vigilantes Are Back...</td>\n",
       "      <td>['chart', 'bond', 'vigilantes', 'yield', 'elec...</td>\n",
       "      <td>chart bond vigilantes yield election chart bon...</td>\n",
       "    </tr>\n",
       "    <tr>\n",
       "      <th>17713</th>\n",
       "      <td>Turkish Parliament Approves Stripping Lawmaker...</td>\n",
       "      <td>ISTANBUL  —   Lawmakers from President Recep T...</td>\n",
       "      <td>0</td>\n",
       "      <td>Turkish Parliament Approves Stripping Lawmaker...</td>\n",
       "      <td>['turkish', 'parliament', 'approves', 'strippi...</td>\n",
       "      <td>turkish parliament approves stripping lawmaker...</td>\n",
       "    </tr>\n",
       "  </tbody>\n",
       "</table>\n",
       "</div>"
      ],
      "text/plain": [
       "                                                   title  \\\n",
       "8238   California Prepares for Long-Denied Star Turn ...   \n",
       "11526  Larry Colburn, Who Helped Stop My Lai Massacre...   \n",
       "9982   A Tear in the Fabric of America’s Political Th...   \n",
       "11282  Chart Of The Day: The Bond Vigilantes Are Back...   \n",
       "17713  Turkish Parliament Approves Stripping Lawmaker...   \n",
       "\n",
       "                                                    text  label  \\\n",
       "8238   BURLINGAME, Calif.  —   This is the most popul...      0   \n",
       "11526  Larry Colburn, who became an    American hero ...      0   \n",
       "9982   [Graphic: Clinton vs Trump by DonkeyHotey .] P...      1   \n",
       "11282  Chart Of The Day: The Bond Vigilantes Are Back...      1   \n",
       "17713  ISTANBUL  —   Lawmakers from President Recep T...      0   \n",
       "\n",
       "                                                    news  \\\n",
       "8238   California Prepares for Long-Denied Star Turn ...   \n",
       "11526  Larry Colburn, Who Helped Stop My Lai Massacre...   \n",
       "9982   A Tear in the Fabric of America’s Political Th...   \n",
       "11282  Chart Of The Day: The Bond Vigilantes Are Back...   \n",
       "17713  Turkish Parliament Approves Stripping Lawmaker...   \n",
       "\n",
       "                                                   clean  \\\n",
       "8238   ['california', 'prepares', 'long', 'denied', '...   \n",
       "11526  ['larry', 'colburn', 'helped', 'stop', 'massac...   \n",
       "9982   ['tear', 'fabric', 'america', 'political', 'th...   \n",
       "11282  ['chart', 'bond', 'vigilantes', 'yield', 'elec...   \n",
       "17713  ['turkish', 'parliament', 'approves', 'strippi...   \n",
       "\n",
       "                                            clean_joined  \n",
       "8238   california prepares long denied star turn pres...  \n",
       "11526  larry colburn helped stop massacre dies york t...  \n",
       "9982   tear fabric america political theater graphic ...  \n",
       "11282  chart bond vigilantes yield election chart bon...  \n",
       "17713  turkish parliament approves stripping lawmaker...  "
      ]
     },
     "execution_count": 15,
     "metadata": {},
     "output_type": "execute_result"
    }
   ],
   "source": [
    "train_df.head(5)"
   ]
  },
  {
   "cell_type": "code",
   "execution_count": 25,
   "id": "f0086e7b",
   "metadata": {
    "scrolled": true
   },
   "outputs": [
    {
     "name": "stdout",
     "output_type": "stream",
     "text": [
      "<class 'pandas.core.frame.DataFrame'>\n",
      "Int64Index: 16606 entries, 9958 to 15795\n",
      "Data columns (total 6 columns):\n",
      " #   Column        Non-Null Count  Dtype \n",
      "---  ------        --------------  ----- \n",
      " 0   title         16155 non-null  object\n",
      " 1   text          16606 non-null  object\n",
      " 2   label         16606 non-null  int64 \n",
      " 3   news          16606 non-null  object\n",
      " 4   clean         16606 non-null  object\n",
      " 5   clean_joined  16606 non-null  object\n",
      "dtypes: int64(1), object(5)\n",
      "memory usage: 908.1+ KB\n"
     ]
    }
   ],
   "source": [
    "train_df.info()"
   ]
  },
  {
   "cell_type": "markdown",
   "id": "b4b66384",
   "metadata": {},
   "source": [
    "Splitting the data into train, validation, and test sets, ensuring that the data is representative of the overall dataset. This helps us assess the performance of the model on unseen data."
   ]
  },
  {
   "cell_type": "code",
   "execution_count": 99,
   "id": "c999c1f5",
   "metadata": {},
   "outputs": [],
   "source": [
    "# Split the data into train, validation, and test sets\n",
    "X_trainval, X_test, y_trainval, y_test = train_test_split(news_df['clean_joined'], news_df['label'], test_size=0.1, random_state=42)\n",
    "X_train, X_val, y_train, y_val = train_test_split(X_trainval, y_trainval, test_size=0.2, random_state=42)  # 60% train, 20% validation"
   ]
  },
  {
   "cell_type": "markdown",
   "id": "e848c576",
   "metadata": {},
   "source": [
    "Applying TF-IDF vectorization to convert the text data into numerical features that can be used by the Logistic Regression model. TF-IDF helps in giving higher weightage to words that are more informative for classification."
   ]
  },
  {
   "cell_type": "code",
   "execution_count": 119,
   "id": "ad292135",
   "metadata": {},
   "outputs": [],
   "source": [
    "# Create a TF-IDF vectorizer\n",
    "vectorizer = TfidfVectorizer()\n",
    "\n",
    "# Fit and transform the training data\n",
    "X_train_tfidf = vectorizer.fit_transform(X_train)"
   ]
  },
  {
   "cell_type": "code",
   "execution_count": 117,
   "id": "2ba1a40e",
   "metadata": {},
   "outputs": [],
   "source": [
    "# Transform the validation data\n",
    "X_val_tfidf = vectorizer.transform(X_val)"
   ]
  },
  {
   "cell_type": "markdown",
   "id": "084ed2af",
   "metadata": {},
   "source": [
    "### Logistic Regression"
   ]
  },
  {
   "cell_type": "markdown",
   "id": "18f57470",
   "metadata": {},
   "source": [
    "To find the best hyperparameters for the Logistic Regression model, we are utilizing a pipeline in combination with a grid search. The pipeline allows us to streamline the workflow by chaining the data preprocessing steps and the model fitting. The grid searches systematically and explore different combinations of hyperparameters and select the ones that yield the best performance."
   ]
  },
  {
   "cell_type": "code",
   "execution_count": null,
   "id": "831d576a",
   "metadata": {},
   "outputs": [],
   "source": [
    "# Create a logistic regression model\n",
    "logreg = LogisticRegression()\n",
    "\n",
    "# Define the hyperparameters to tune\n",
    "param_grid = {\n",
    "    'logreg__C': [0.001, 0.01, 0.1, 1, 10, 100],\n",
    "    'logreg__penalty': ['l1', 'l2']\n",
    "}\n",
    "\n",
    "# Create the pipeline\n",
    "pipeline = Pipeline([('tfidf', vectorizer), ('logreg', logreg)])\n",
    "\n",
    "# Perform grid search to find the best parameters\n",
    "grid_search = GridSearchCV(pipeline, param_grid, cv=5)\n",
    "grid_search.fit(X_trainval, y_trainval)\n",
    "\n",
    "# Get the best parameters\n",
    "best_params = grid_search.best_params_"
   ]
  },
  {
   "cell_type": "code",
   "execution_count": 41,
   "id": "fba1329f",
   "metadata": {},
   "outputs": [
    {
     "data": {
      "text/plain": [
       "{'logreg__C': 100, 'logreg__penalty': 'l2'}"
      ]
     },
     "execution_count": 41,
     "metadata": {},
     "output_type": "execute_result"
    }
   ],
   "source": [
    "best_params"
   ]
  },
  {
   "cell_type": "code",
   "execution_count": 38,
   "id": "5331cc06",
   "metadata": {},
   "outputs": [],
   "source": [
    "# Train the model with the best parameters\n",
    "logreg = LogisticRegression(C=best_params['logreg__C'], penalty=best_params['logreg__penalty'])\n",
    "logreg.fit(X_train_tfidf, y_train)\n",
    "\n",
    "# Make predictions on the validation data\n",
    "y_pred_val = logreg.predict(X_val_tfidf)"
   ]
  },
  {
   "cell_type": "code",
   "execution_count": 115,
   "id": "c3c0ff6e",
   "metadata": {},
   "outputs": [
    {
     "name": "stdout",
     "output_type": "stream",
     "text": [
      "Train Accuracy: 1.0\n",
      "Train Precision: 1.0\n",
      "Train Recall: 1.0\n",
      "Train F1-score: 1.0\n"
     ]
    }
   ],
   "source": [
    "# Make predictions on the train data\n",
    "y_pred_train = logreg.predict(X_train_tfidf)\n",
    "\n",
    "# Calculate evaluation metrics for train data\n",
    "accuracy_train = accuracy_score(y_train, y_pred_train)\n",
    "precision_train = precision_score(y_train, y_pred_train)\n",
    "recall_train = recall_score(y_train, y_pred_train)\n",
    "f1_train = f1_score(y_train, y_pred_train)\n",
    "\n",
    "# Print the evaluation metrics for train data\n",
    "print(\"Train Accuracy:\", accuracy_train)\n",
    "print(\"Train Precision:\", precision_train)\n",
    "print(\"Train Recall:\", recall_train)\n",
    "print(\"Train F1-score:\", f1_train)"
   ]
  },
  {
   "cell_type": "code",
   "execution_count": 39,
   "id": "211fe5e3",
   "metadata": {},
   "outputs": [
    {
     "name": "stdout",
     "output_type": "stream",
     "text": [
      "Validation Accuracy: 0.9593256622959593\n",
      "Validation Precision: 0.9595628415300547\n",
      "Validation Recall: 0.9574700109051254\n",
      "Validation F1-score: 0.9585152838427947\n"
     ]
    }
   ],
   "source": [
    "# Calculate evaluation metrics for validation data\n",
    "accuracy_val = accuracy_score(y_val, y_pred_val)\n",
    "precision_val = precision_score(y_val, y_pred_val)\n",
    "recall_val = recall_score(y_val, y_pred_val)\n",
    "f1_val = f1_score(y_val, y_pred_val)\n",
    "\n",
    "# Print the evaluation metrics for validation data\n",
    "print(\"Validation Accuracy:\", accuracy_val)\n",
    "print(\"Validation Precision:\", precision_val)\n",
    "print(\"Validation Recall:\", recall_val)\n",
    "print(\"Validation F1-score:\", f1_val)"
   ]
  },
  {
   "cell_type": "code",
   "execution_count": 120,
   "id": "dafd32c4",
   "metadata": {},
   "outputs": [],
   "source": [
    "# Calculate predictions on the test data\n",
    "X_test_tfidf = vectorizer.transform(X_test)\n",
    "y_pred_test = logreg.predict(X_test_tfidf)"
   ]
  },
  {
   "cell_type": "code",
   "execution_count": 121,
   "id": "d3c01260",
   "metadata": {},
   "outputs": [
    {
     "name": "stdout",
     "output_type": "stream",
     "text": [
      "Test Accuracy: 0.9605009633911368\n",
      "Test Precision: 0.9595628415300547\n",
      "Test Recall: 0.9574700109051254\n",
      "Test F1-score: 0.9585152838427947\n",
      "Validation Recall (Threshold = 0.5): 0.9574700109051254\n",
      "Validation Recall (Threshold = 0.3): 0.9749182115594329\n"
     ]
    }
   ],
   "source": [
    "# Calculate test accuracy\n",
    "accuracy_test = accuracy_score(y_test, y_pred_test)\n",
    "precision_test = precision_score(y_test, y_pred_test)\n",
    "recall_test = recall_score(y_test, y_pred_test)\n",
    "f1_test = f1_score(y_test, y_pred_test)\n",
    "\n",
    "print(\"Test Accuracy:\", accuracy_test)\n",
    "print(\"Test Precision:\", precision_val)\n",
    "print(\"Test Recall:\", recall_val)\n",
    "print(\"Test F1-score:\", f1_val)\n",
    "\n",
    "# Change the threshold for better recall\n",
    "y_pred_proba_val = logreg.predict_proba(X_val_tfidf)[:, 1]  # Predicted probabilities for positive class\n",
    "threshold = 0.5  # Original threshold\n",
    "y_pred_threshold = (y_pred_proba_val > threshold).astype(int)\n",
    "recall_threshold = recall_score(y_val, y_pred_threshold)\n",
    "print(\"Validation Recall (Threshold = 0.5):\", recall_threshold)\n",
    "\n",
    "# Change the threshold to improve recall\n",
    "threshold = 0.3  # New threshold\n",
    "y_pred_threshold = (y_pred_proba_val > threshold).astype(int)\n",
    "recall_threshold = recall_score(y_val, y_pred_threshold)\n",
    "print(\"Validation Recall (Threshold = 0.3):\", recall_threshold)"
   ]
  },
  {
   "cell_type": "code",
   "execution_count": 59,
   "id": "bcc1bfc5",
   "metadata": {},
   "outputs": [
    {
     "data": {
      "image/png": "[encoded data removed]",
      "text/plain": [
       "<Figure size 800x600 with 1 Axes>"
      ]
     },
     "metadata": {},
     "output_type": "display_data"
    }
   ],
   "source": [
    "y_pred_proba_test = logreg.predict_proba(X_test_tfidf)[:, 1]\n",
    "# Compute false positive rate (FPR) and true positive rate (TPR)\n",
    "fpr, tpr, _ = roc_curve(y_test, y_pred_proba_test)\n",
    "\n",
    "# Calculate AUC score\n",
    "auc_score = auc(fpr, tpr)\n",
    "\n",
    "# Plot ROC curve\n",
    "plt.figure(figsize=(8, 6))\n",
    "plt.plot(fpr, tpr, label='ROC curve (AUC = {:.2f})'.format(auc_score))\n",
    "plt.plot([0, 1], [0, 1], 'k--', label='Random')\n",
    "plt.xlabel('False Positive Rate')\n",
    "plt.ylabel('True Positive Rate')\n",
    "plt.title('Receiver Operating Characteristic (ROC) Curve')\n",
    "plt.legend(loc='lower right')\n",
    "plt.show()"
   ]
  },
  {
   "cell_type": "code",
   "execution_count": 62,
   "id": "4f92915b",
   "metadata": {},
   "outputs": [],
   "source": [
    "with open('logreg_model.pkl', 'wb') as file:\n",
    "    pickle.dump(logreg, file)"
   ]
  },
  {
   "cell_type": "markdown",
   "id": "c0425f22",
   "metadata": {},
   "source": [
    "### Naive Bayes "
   ]
  },
  {
   "cell_type": "markdown",
   "id": "5d5947eb",
   "metadata": {},
   "source": [
    "We are exploring the performance of two Naive Bayes variants: Multinomial Naive Bayes and Bernoulli Naive Bayes. Multinomial Naive Bayes is suitable for discrete features such as word counts, while Bernoulli Naive Bayes is suitable for binary features such as presence or absence of words.\n",
    "\n",
    "We are using a pipeline in combination with a grid search to find the best hyperparameters for the Naive Bayes models. The pipeline allows us to preprocess the data using TF-IDF vectorization and then apply the Naive Bayes model. The grid search helps us systematically explore different combinations of hyperparameters to find the ones that yield the best performance.\n",
    "\n",
    "By evaluating the models using different evaluation metrics, such as accuracy and ROC curve, we can assess their classification performance and choose the best model for our task."
   ]
  },
  {
   "cell_type": "code",
   "execution_count": 101,
   "id": "16f8cb33",
   "metadata": {},
   "outputs": [
    {
     "data": {
      "text/plain": [
       "MultinomialNB()"
      ]
     },
     "execution_count": 101,
     "metadata": {},
     "output_type": "execute_result"
    }
   ],
   "source": [
    "# Define and train the Naive Bayes model\n",
    "naive_bayes = MultinomialNB()\n",
    "naive_bayes.fit(X_train_tfidf, y_train)"
   ]
  },
  {
   "cell_type": "code",
   "execution_count": 102,
   "id": "ef071b16",
   "metadata": {},
   "outputs": [],
   "source": [
    "# Make predictions on the validation data\n",
    "y_pred_val = naive_bayes.predict(X_val_tfidf)"
   ]
  },
  {
   "cell_type": "code",
   "execution_count": 103,
   "id": "6640cc55",
   "metadata": {},
   "outputs": [
    {
     "name": "stdout",
     "output_type": "stream",
     "text": [
      "Accuracy: 0.8643296762108643\n",
      "Precision: 0.9797541576283442\n",
      "Recall: 0.7388222464558343\n",
      "F1-Score: 0.8423997513211066\n"
     ]
    }
   ],
   "source": [
    "# Evaluate the model on the validation data\n",
    "accuracy = accuracy_score(y_val, y_pred_val)\n",
    "precision = precision_score(y_val, y_pred_val)\n",
    "recall = recall_score(y_val, y_pred_val)\n",
    "f1 = f1_score(y_val, y_pred_val)\n",
    "\n",
    "# Print the evaluation metrics\n",
    "print(\"Accuracy:\", accuracy)\n",
    "print(\"Precision:\", precision)\n",
    "print(\"Recall:\", recall)\n",
    "print(\"F1-Score:\", f1)"
   ]
  },
  {
   "cell_type": "code",
   "execution_count": 104,
   "id": "cb030729",
   "metadata": {},
   "outputs": [
    {
     "name": "stdout",
     "output_type": "stream",
     "text": [
      "Test Accuracy: 0.8535645472061657\n",
      "Test Precision: 0.9865591397849462\n",
      "Test Recall: 0.7140077821011673\n",
      "Test F1-Score: 0.8284424379232506\n"
     ]
    }
   ],
   "source": [
    "# Make predictions on the test data\n",
    "y_pred_test = naive_bayes.predict(X_test_tfidf)\n",
    "\n",
    "# Evaluate the model on the test data\n",
    "test_accuracy = accuracy_score(y_test, y_pred_test)\n",
    "test_precision = precision_score(y_test, y_pred_test)\n",
    "test_recall = recall_score(y_test, y_pred_test)\n",
    "test_f1 = f1_score(y_test, y_pred_test)\n",
    "\n",
    "# Print the evaluation metrics for the test data\n",
    "print(\"Test Accuracy:\", test_accuracy)\n",
    "print(\"Test Precision:\", test_precision)\n",
    "print(\"Test Recall:\", test_recall)\n",
    "print(\"Test F1-Score:\", test_f1)"
   ]
  },
  {
   "cell_type": "code",
   "execution_count": 105,
   "id": "c71b3e0d",
   "metadata": {},
   "outputs": [
    {
     "data": {
      "image/png": "[encoded data removed]",
      "text/plain": [
       "<Figure size 640x480 with 1 Axes>"
      ]
     },
     "metadata": {},
     "output_type": "display_data"
    }
   ],
   "source": [
    "# Get predicted probabilities for positive class\n",
    "y_pred_proba = naive_bayes.predict_proba(X_test_tfidf)[:, 1]\n",
    "\n",
    "# Compute the false positive rate and true positive rate\n",
    "fpr, tpr, thresholds = roc_curve(y_test, y_pred_proba)\n",
    "\n",
    "# Compute the area under the ROC curve\n",
    "roc_auc = auc(fpr, tpr)\n",
    "\n",
    "# Plot the ROC curve\n",
    "plt.plot(fpr, tpr, label='ROC curve (AUC = %0.2f)' % roc_auc)\n",
    "plt.plot([0, 1], [0, 1], 'k--')  # Diagonal line\n",
    "plt.xlabel('False Positive Rate')\n",
    "plt.ylabel('True Positive Rate')\n",
    "plt.title('Receiver Operating Characteristic')\n",
    "plt.legend(loc='lower right')\n",
    "plt.show()"
   ]
  },
  {
   "cell_type": "code",
   "execution_count": 114,
   "id": "683d996e",
   "metadata": {},
   "outputs": [],
   "source": [
    "# Save the Naive Bayes model\n",
    "\n",
    "with open('naivebayes_model.pkl', 'wb') as file:\n",
    "    pickle.dump(naive_bayes, file)"
   ]
  },
  {
   "cell_type": "markdown",
   "id": "f8f20f69",
   "metadata": {},
   "source": [
    "### Random Forest\n",
    "Here we will focus on tuning hyperparameter for the Random Forest (RF) model: the number of estimators (or the number of decision trees in the forest). The number of estimators in a Random Forest model can significantly impact the model's ability to capture complex patterns in the data.\n",
    "\n",
    "A Random Forest model works by creating multiple decision trees (estimators) and combining their predictions. The number of these decision trees is a parameter that needs to be tuned. Too few trees might lead to a model that is too simple and cannot capture all the information in the data (underfitting), while too many trees could make the model too complex and could lead to overfitting, where the model starts learning from the noise in the data.\n",
    "\n",
    "We approach the tuning of the number of estimators in the Random Forest model using a simple iterative process. We begin with a low number of trees and gradually increase this number. For each value, we train a Random Forest model and record its accuracy on both the training and validation data.\n",
    "\n",
    "The number of trees is incremented from 5 to 100 in steps of 5. For each step, the model's performance on the training and validation sets is recorded. This allows us to see how the model's performance changes as the number of estimators increases."
   ]
  },
  {
   "cell_type": "code",
   "execution_count": 123,
   "id": "8c3c2da5",
   "metadata": {},
   "outputs": [],
   "source": [
    "train_scores = []\n",
    "val_scores = []\n",
    "\n",
    "\n",
    "n_range = range(5,101,5)\n",
    "\n",
    "for n in n_range:\n",
    "    \n",
    "    # Instantiate the model\n",
    "    RF_model = RandomForestClassifier(n_estimators=n)\n",
    "    \n",
    "    # Fit\n",
    "    RF_model.fit(X_train_tfidf, y_train)\n",
    "    \n",
    "    # Scores\n",
    "    train_acc = RF_model.score(X_train_tfidf, y_train)\n",
    "    val_acc = RF_model.score(X_val_tfidf, y_val)\n",
    "    \n",
    "    train_scores.append(train_acc)\n",
    "    val_scores.append(val_acc)"
   ]
  },
  {
   "cell_type": "code",
   "execution_count": 125,
   "id": "4f47f6d6",
   "metadata": {},
   "outputs": [
    {
     "data": {
      "image/png": "[encoded data removed]",
      "text/plain": [
       "<Figure size 800x500 with 1 Axes>"
      ]
     },
     "metadata": {},
     "output_type": "display_data"
    }
   ],
   "source": [
    "plt.figure(figsize=(8,5))\n",
    "\n",
    "plt.plot(n_range, train_scores, label = 'train')\n",
    "plt.plot(n_range, val_scores, label = 'validation')\n",
    "\n",
    "plt.xlabel('Number of estimatroes')\n",
    "plt.ylabel('Accuracy')\n",
    "\n",
    "plt.legend()\n",
    "plt.show()"
   ]
  },
  {
   "cell_type": "code",
   "execution_count": 138,
   "id": "c158c2bc",
   "metadata": {},
   "outputs": [
    {
     "data": {
      "text/plain": [
       "75"
      ]
     },
     "execution_count": 138,
     "metadata": {},
     "output_type": "execute_result"
    }
   ],
   "source": [
    "best_estimator = val_scores.index(max(val_scores)) * 5\n",
    "\n",
    "best_estimator"
   ]
  },
  {
   "cell_type": "markdown",
   "id": "fc678397",
   "metadata": {},
   "source": [
    "We found that as the number of estimators increased, so did the performance of the model on both the training and validation data, up to a certain point. However, beyond around 75 estimators, we observed that the validation accuracy remained relatively stable, suggesting that adding more estimators beyond this point does not significantly improve the model's generalization performance on unseen data. Therefore, in the context of our study and for this specific dataset, a Random Forest model with around 75 estimators provides an optimal balance between training performance and validation performance. It's a valuable insight that helps to avoid unnecessary computational cost without compromising the model's ability to generalize well to unseen data."
   ]
  },
  {
   "cell_type": "code",
   "execution_count": null,
   "id": "b71165d4",
   "metadata": {},
   "outputs": [],
   "source": [
    "# Instantiate the model\n",
    "RF_model = RandomForestClassifier(n_estimators=75)\n",
    "\n",
    "# Fit\n",
    "RF_model.fit(X_train_tfidf, y_train)\n",
    "\n",
    "# Scores\n",
    "train_acc = RF_model.score(X_train_tfidf, y_train)\n",
    "val_acc = RF_model.score(X_val_tfidf, y_val)\n",
    "test_acc = RF_model.score(X_test_tfidf, y_test)"
   ]
  },
  {
   "cell_type": "code",
   "execution_count": 140,
   "id": "ae5ade8e",
   "metadata": {},
   "outputs": [
    {
     "name": "stdout",
     "output_type": "stream",
     "text": [
      "Validation Accuracy: 0.9355097671929355\n",
      "Test Accuracy: 0.9368978805394991\n"
     ]
    }
   ],
   "source": [
    "# Print the evaluation metrics \n",
    "print(\"Validation Accuracy:\", val_acc)\n",
    "print(\"Test Accuracy:\", test_acc)"
   ]
  },
  {
   "cell_type": "markdown",
   "id": "b82c7a24",
   "metadata": {},
   "source": [
    "The test accuracy is found to be 93.68% which is good. However, logistic regression still remains the model with best accuracy."
   ]
  },
  {
   "cell_type": "markdown",
   "id": "e4c60648",
   "metadata": {},
   "source": [
    "### Feature Importance\n",
    "\n",
    "In this section, we delve into interpreting our best model so far. Logistic regression was found to be the best model so far with 96% accuracy. It would be great to understand what are the most important words that is positively and negatively contributing to the accuracy.\n",
    "\n",
    "In the below code we will start by using the feature_importances_ property of the Random Forest and sort the word based on the importance score.\n"
   ]
  },
  {
   "cell_type": "code",
   "execution_count": 207,
   "id": "b034868e",
   "metadata": {},
   "outputs": [],
   "source": [
    "importances = list(RF_model.feature_importances_)"
   ]
  },
  {
   "cell_type": "code",
   "execution_count": 148,
   "id": "04411e89",
   "metadata": {},
   "outputs": [
    {
     "name": "stdout",
     "output_type": "stream",
     "text": [
      "['a_s_sinated', 'aaaaggg', 'aaah', 'aaahhh', 'aaajiao', 'aaany', 'aaas', 'aabb', 'aabenraa', 'aachen']\n"
     ]
    }
   ],
   "source": [
    "feature_names = vectorizer.get_feature_names()\n",
    "\n",
    "# Now you can access the column names\n",
    "print(feature_names[:10])  # Print the first 10 feature names"
   ]
  },
  {
   "cell_type": "code",
   "execution_count": 159,
   "id": "608c17a4",
   "metadata": {},
   "outputs": [
    {
     "data": {
      "text/plain": [
       "[('breitbart', 0.02),\n",
       " ('times', 0.02),\n",
       " ('york', 0.02),\n",
       " ('follow', 0.01),\n",
       " ('hillary', 0.01),\n",
       " ('president', 0.01),\n",
       " ('said', 0.01),\n",
       " ('twitter', 0.01),\n",
       " ('a_s_sinated', 0.0),\n",
       " ('aaaaggg', 0.0),\n",
       " ('aaah', 0.0),\n",
       " ('aaahhh', 0.0),\n",
       " ('aaajiao', 0.0),\n",
       " ('aaany', 0.0),\n",
       " ('aaas', 0.0),\n",
       " ('aabb', 0.0),\n",
       " ('aabenraa', 0.0),\n",
       " ('aachen', 0.0),\n",
       " ('aadara', 0.0),\n",
       " ('aadmi', 0.0)]"
      ]
     },
     "execution_count": 159,
     "metadata": {},
     "output_type": "execute_result"
    }
   ],
   "source": [
    "feature_importances = [(feature, round(importance, 2)) for feature, importance in zip(feature_names, importances)]\n",
    "feature_importances = sorted(feature_importances, key = lambda x: x[1], reverse = True)\n",
    "feature_importances[0:20]"
   ]
  },
  {
   "cell_type": "markdown",
   "id": "a2a09c86",
   "metadata": {},
   "source": [
    "In the code below we will try to visualize the coefficients of a logistic regression model, thereby providing a measure of the importance of each feature used by the model in predicting the target variable. This code specifically targets the features with the highest coefficients (both positive and negative) in terms of their absolute value, indicating the most significant features(words) in the model."
   ]
  },
  {
   "cell_type": "code",
   "execution_count": 178,
   "id": "63b1193f",
   "metadata": {},
   "outputs": [
    {
     "data": {
      "image/png": "[encoded data removed]",
      "text/plain": [
       "<Figure size 1000x800 with 1 Axes>"
      ]
     },
     "metadata": {},
     "output_type": "display_data"
    }
   ],
   "source": [
    "# Get the coefficients from the logistic regression model\n",
    "coefficients = logreg.coef_[0]\n",
    "\n",
    "# Get the feature names from the TfidfVectorizer\n",
    "feature_names = vectorizer.get_feature_names()\n",
    "\n",
    "# Create a DataFrame to store the coefficients and corresponding feature names\n",
    "coefficients_df = pd.DataFrame({'Feature': feature_names, 'Coefficient': coefficients})\n",
    "\n",
    "# Sort the DataFrame by the absolute value of the coefficients in descending order\n",
    "coefficients_df['Absolute Coefficient'] = coefficients_df['Coefficient'].abs()\n",
    "coefficients_df = coefficients_df.sort_values(by='Absolute Coefficient', ascending=False)\n",
    "\n",
    "# Display the top N most important features\n",
    "N = 20\n",
    "top_features = coefficients_df.head(N)\n",
    "#print(top_features)\n",
    "\n",
    "coefficients_sorted = top_features.sort_values('Coefficient')\n",
    "\n",
    "# Plot the horizontal bar plot\n",
    "plt.figure(figsize=(10, 8))\n",
    "plt.barh(coefficients_sorted['Feature'], coefficients_sorted['Coefficient'])\n",
    "plt.xlabel('Coefficient')\n",
    "plt.ylabel('Feature')\n",
    "plt.title('Feature Coefficients')\n",
    "# Annotate the bars with their corresponding coefficient values\n",
    "for index, value in enumerate(coefficients_sorted['Coefficient']):\n",
    "    plt.text(value, index, f'{value:.2f}', ha='right', va='center')\n",
    "plt.tight_layout()\n",
    "plt.show()\n"
   ]
  },
  {
   "cell_type": "markdown",
   "id": "10b21b06",
   "metadata": {},
   "source": [
    "Finally, lets save the Naive Bayes model to a pickle file."
   ]
  },
  {
   "cell_type": "code",
   "execution_count": null,
   "id": "5e9774c2",
   "metadata": {},
   "outputs": [],
   "source": [
    "# Save the Niave Bayes model\n",
    "with open('randomforest_model.pkl', 'wb') as file:\n",
    "    pickle.dump(RF_model, file)"
   ]
  },
  {
   "cell_type": "markdown",
   "id": "835c1684",
   "metadata": {},
   "source": [
    "### Testing the logistic regression model\n",
    "\n",
    "In the following section, we will test the logistic regression model by passing test news articles created with the help of Bing chat. The Fake news from different topics were generated and assigned to variables fakenews_test, fakenews_test1, fakenews_test2, fakenews_test3. Functions preprocess and fake_news_detector was created to test the news authenticity."
   ]
  },
  {
   "cell_type": "code",
   "execution_count": 198,
   "id": "c0ab6dc6",
   "metadata": {},
   "outputs": [],
   "source": [
    "stop_words = stopwords.words('english')\n",
    "stop_words.extend(['from', 'subject', 're', 'edu', 'use'])\n",
    "\n",
    "# Function removes the stop words and remove words with 2 or less characters\n",
    "def preprocess(text):\n",
    "    result = []\n",
    "    for token in gensim.utils.simple_preprocess(text, max_len=25):\n",
    "        if token not in gensim.parsing.preprocessing.STOPWORDS and len(token) > 3 and token not in stop_words:\n",
    "            result.append(token)\n",
    "\n",
    "    return [' '.join(result)]"
   ]
  },
  {
   "cell_type": "code",
   "execution_count": 216,
   "id": "44158b3f",
   "metadata": {},
   "outputs": [],
   "source": [
    "# Function to vectorize the preprocessed news article and uses the logreg model to predict the \\\n",
    "# authenticity of the news article.\n",
    "def fake_news_detector(topic, news_type, news_article):\n",
    "    # Transform the single document (string) using the pre-fitted vectorizer\n",
    "    fakenews_test_tfidf = vectorizer.transform(preprocess(news_article))\n",
    "\n",
    "    # fakenews_test_tfidf will be a sparse matrix representing the TF-IDF representation of the input document\n",
    "\n",
    "    # Predict the class (fake or real) using the logistic regression model\n",
    "    prediction = logreg.predict(fakenews_test_tfidf)\n",
    "    # Print the prediction\n",
    "    print(f\"Test of \\\"{news_type}\\\" news on \\\"{topic}\\\" topic was predicted to be :\", \"Real\" if prediction == 0 else \"Fake\")"
   ]
  },
  {
   "cell_type": "code",
   "execution_count": null,
   "id": "de9360ad",
   "metadata": {},
   "outputs": [],
   "source": [
    "fakenews_test = '''BREAKING: President Biden Resigns After Secret Deal With China Exposed. \n",
    "In a shocking turn of events, President Joe Biden announced his resignation today after a whistleblower revealed that he had made a secret deal with China to sell US military secrets and technology in exchange for personal favors and financial benefits. The whistleblower, who claims to be a former aide of Biden, leaked a series of emails and documents that allegedly prove the existence of the deal, which was signed by Biden and Chinese President Xi Jinping in January 2021.\n",
    "According to the whistleblower, the deal involved Biden agreeing to provide China with access to classified information on US weapons systems, cyberwarfare capabilities, and intelligence operations, as well as lifting sanctions and tariffs on Chinese goods and companies. In return, Biden would receive a large sum of money deposited in an offshore account, as well as political support from China for his domestic and foreign agenda.\n",
    "The whistleblower also claimed that Biden had used his influence to silence any opposition or criticism of the deal, and that he had threatened to fire or prosecute anyone who tried to expose it. The whistleblower said that he decided to come forward after he realized the grave danger that the deal posed to US national security and democracy.\n",
    "Biden’s resignation comes amid widespread outrage and protests from both Democrats and Republicans, who have called for his impeachment and criminal investigation. Vice President Kamala Harris has assumed the role of acting president, and has vowed to cooperate with any inquiry into the matter. She has also expressed her shock and disappointment at Biden’s actions, and said that she was unaware of the deal until today.\n",
    "China has denied any involvement in the deal, and has accused the whistleblower of fabricating evidence and spreading lies. A spokesperson for the Chinese Foreign Ministry said that the allegations were part of a “malicious smear campaign” orchestrated by anti-China forces in the US, and that China had always respected US sovereignty and interests.'''"
   ]
  },
  {
   "cell_type": "code",
   "execution_count": 197,
   "id": "1b3e13a6",
   "metadata": {},
   "outputs": [],
   "source": [
    "fakenews_test2 = '''EXCLUSIVE: Oprah Winfrey Reveals She Has a Secret Daughter\n",
    "In a shocking revelation, Oprah Winfrey has admitted that she has a secret daughter that she gave up for adoption when she was 17 years old. The media mogul made the confession in an emotional interview with her best friend Gayle King, which will air on CBS next week.\n",
    "According to Oprah, she became pregnant as a teenager after being sexually abused by a relative, and decided to give up her baby girl for adoption because she felt she was not ready to be a mother. She said that she never forgot about her daughter, and always wondered what happened to her.\n",
    "Oprah said that she recently received a letter from a woman named Lisa, who claimed to be her biological daughter. Lisa said that she had been searching for her birth mother for years, and had finally found her through a DNA test. She said that she wanted to meet Oprah and establish a relationship with her.\n",
    "Oprah said that she was shocked and skeptical at first, but agreed to meet Lisa in a private location. She said that when she saw Lisa, she immediately recognized her as her daughter, because they had the same eyes and smile. She said that they hugged and cried, and started to get to know each other.\n",
    "Oprah said that she was sorry for giving up Lisa, and that she hoped to make up for the lost time. She said that she wanted to introduce Lisa to her family and friends, and to the world. She said that Lisa was her miracle, and that she loved her very much.'''"
   ]
  },
  {
   "cell_type": "code",
   "execution_count": 203,
   "id": "db1ed0f9",
   "metadata": {},
   "outputs": [],
   "source": [
    "fakenews_test3 = '''BREAKING: China Declares War on India over Border Dispute\n",
    "\n",
    "In a shocking and unprecedented move, China has officially declared war on India over the long-standing border dispute in the Himalayan region. The announcement was made by Chinese President Xi Jinping in a televised address to the nation, in which he accused India of violating China’s sovereignty and territorial integrity, and threatened to use all means necessary to defend China’s interests.\n",
    "\n",
    "According to Xi, China has tried to resolve the border issue peacefully and diplomatically, but India has repeatedly provoked and attacked Chinese troops and civilians along the Line of Actual Control (LAC), the de facto border between the two countries. He said that India’s actions have seriously endangered regional peace and stability, and posed a grave threat to China’s national security.\n",
    "\n",
    "Xi said that China has no choice but to take decisive military action to safeguard its national dignity and honor, and to protect its people from Indian aggression. He said that China will not tolerate any infringement on its core interests, and will not allow any foreign power to interfere in its internal affairs. He said that China is ready to fight a just war against India, and to win a glorious victory.\n",
    "\n",
    "Xi also called on the Chinese people to unite behind the Communist Party and the People’s Liberation Army, and to support the war effort with patriotism and courage. He said that China is a strong and resilient nation, and that no enemy can defeat it. He said that China will always uphold its sovereignty, security and development interests, and will always pursue peace and cooperation with other countries.\n",
    "\n",
    "The declaration of war by China has sent shockwaves across the world, and has triggered a global crisis. The United Nations Security Council has convened an emergency meeting to discuss the situation, and has urged both sides to exercise restraint and de-escalate tensions. The United States, Russia, Japan, Australia and other countries have also expressed their grave concern over the outbreak of war, and have called for dialogue and diplomacy to resolve the dispute.\n",
    "\n",
    "India has not yet issued an official response to China’s declaration of war, but sources say that Prime Minister Narendra Modi is holding an urgent cabinet meeting to discuss the situation. India has also reportedly mobilized its troops and weapons along the LAC, and has put its air force and navy on high alert. India has also sought support from its allies and partners, especially the US, which has a strategic partnership with India.\n",
    "\n",
    "The border dispute between China and India dates back to the colonial era, when Britain drew an arbitrary boundary between Tibet and India, known as the McMahon Line. China does not recognize this line, and claims about 90,000 square kilometers of Indian territory in Arunachal Pradesh as part of southern Tibet. India also claims about 38,000 square kilometers of Chinese territory in Aksai Chin as part of Ladakh. The two countries fought a brief but bloody war over the border in 1962, which resulted in a Chinese victory. Since then, the two sides have had several skirmishes and standoffs along the LAC, but have never resorted to full-scale war.\n",
    "\n",
    "The current crisis was sparked by a violent clash between Chinese and Indian troops in the Galwan Valley in June 2020, which resulted in the deaths of 20 Indian soldiers and an unknown number of Chinese casualties. The two sides agreed to disengage and de-escalate after several rounds of talks, but tensions remained high as both sides continued to build up their forces along the LAC. The situation worsened in October 2020, when China accused India of firing shots at its troops near Pangong Lake, which India denied. Since then, both sides have accused each other of violating agreements and crossing into each other’s territory.\n",
    "\n",
    "The war between China and India could have devastating consequences for both countries and the world. Both countries are nuclear-armed powers with large populations and economies. A prolonged war could result in massive casualties, displacement, environmental damage, economic disruption, social unrest and humanitarian crisis. It could also destabilize the region and trigger a wider conflict involving other countries. It is hoped that both sides will find a peaceful solution to their dispute before it is too late.'''"
   ]
  },
  {
   "cell_type": "code",
   "execution_count": 204,
   "id": "a8501df6",
   "metadata": {},
   "outputs": [],
   "source": [
    "fakenews_test4 = '''Tom Cruise Announces Retirement from Acting\n",
    "\n",
    "In a shocking and unexpected move, Tom Cruise has announced that he is retiring from acting after nearly four decades in the industry. The Hollywood superstar made the announcement in an exclusive interview with Variety, in which he said that he wanted to focus on his personal life and other interests.\n",
    "\n",
    "According to Cruise, he has been feeling burned out and disillusioned with the movie business, and has decided to call it quits after completing his upcoming projects. He said that he has achieved everything he wanted to achieve as an actor, and that he has nothing left to prove. He said that he is grateful for all the opportunities and experiences he has had, and for all the fans and colleagues who have supported him throughout his career.\n",
    "\n",
    "Cruise said that he plans to spend more time with his family and friends, and to pursue his hobbies and passions, such as flying, sailing and philanthropy. He said that he also wants to explore his spirituality and faith, and to devote more time to his involvement with the Church of Scientology. He said that he is looking forward to a new chapter in his life, and that he is happy and at peace with his decision.\n",
    "\n",
    "Cruise’s retirement announcement has stunned and saddened his fans and peers, who have expressed their admiration and appreciation for his work and legacy. Cruise is widely regarded as one of the most successful and influential actors of all time, having starred in over 40 films, many of which are considered classics and blockbusters. He is best known for his roles in films such as Top Gun, Rain Man, A Few Good Men, Jerry Maguire, Mission: Impossible, Minority Report, The Last Samurai, War of the Worlds, Tropic Thunder, Edge of Tomorrow, American Made and Jack Reacher. He has been nominated for three Academy Awards and seven Golden Globes, winning three of them. He has also received numerous other awards and honors, including the AFI Life Achievement Award, the BAFTA Stanley Kubrick Britannia Award for Excellence in Film, and the Kennedy Center Honors.\n",
    "\n",
    "Cruise’s retirement announcement comes as a surprise, as he has been busy working on several projects in recent years. He is currently filming Mission: Impossible 8, the eighth installment of the popular spy franchise that he has been leading since 1996. He is also set to star in Top Gun: Maverick, the sequel to his 1986 breakthrough film Top Gun, which is scheduled for release in May 2023. He is also attached to star in two other films: Luna Park, a sci-fi adventure directed by Doug Liman, and Live Die Repeat and Repeat, the sequel to his 2014 hit Edge of Tomorrow.\n",
    "\n",
    "Cruise said that he will honor his commitments to these projects, but that they will be his last as an actor. He said that he hopes that his fans will enjoy his final performances, and that they will respect his choice to retire. He said that he will always love acting, but that he feels that it is time for him to move on.'''"
   ]
  },
  {
   "cell_type": "code",
   "execution_count": 220,
   "id": "d6616279",
   "metadata": {},
   "outputs": [
    {
     "name": "stdout",
     "output_type": "stream",
     "text": [
      "Test of \"Fake\" news on \"Politics\" topic was predicted to be : Fake\n",
      "Test of \"Fake\" news on \"Other\" topic was predicted to be : Real\n",
      "Test of \"Fake\" news on \"Politics\" topic was predicted to be : Fake\n",
      "Test of \"Fake\" news on \"Media and Entertainment\" topic was predicted to be : Real\n"
     ]
    }
   ],
   "source": [
    "fake_news_detector(\"Politics\", \"Fake\", fakenews_test)\n",
    "fake_news_detector(\"Other\", \"Fake\", fakenews_test2)\n",
    "fake_news_detector(\"Politics\", \"Fake\", fakenews_test3)\n",
    "fake_news_detector(\"Media and Entertainment\", \"Fake\", fakenews_test4)"
   ]
  },
  {
   "cell_type": "markdown",
   "id": "68a2237b",
   "metadata": {},
   "source": [
    "### Testing conclusion\n",
    "\n",
    "Testing seems to have good accuracy on political news topics but performs badly on news topics that are non political. This shows that the model is biased towards political news and is not great option for predicting any type of news."
   ]
  },
  {
   "cell_type": "code",
   "execution_count": null,
   "id": "71d62eb2",
   "metadata": {},
   "outputs": [],
   "source": []
  }
 ],
 "metadata": {
  "kernelspec": {
   "display_name": "Python 3 (ipykernel)",
   "language": "python",
   "name": "python3"
  },
  "language_info": {
   "codemirror_mode": {
    "name": "ipython",
    "version": 3
   },
   "file_extension": ".py",
   "mimetype": "text/x-python",
   "name": "python",
   "nbconvert_exporter": "python",
   "pygments_lexer": "ipython3",
   "version": "3.8.17"
  }
 },
 "nbformat": 4,
 "nbformat_minor": 5
}
